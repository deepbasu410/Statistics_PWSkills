{
  "nbformat": 4,
  "nbformat_minor": 0,
  "metadata": {
    "colab": {
      "provenance": []
    },
    "kernelspec": {
      "name": "python3",
      "display_name": "Python 3"
    },
    "language_info": {
      "name": "python"
    }
  },
  "cells": [
    {
      "cell_type": "markdown",
      "source": [
        "# Question 1: What is the difference between descriptive statistics and inferential statistics? Explain with examples."
      ],
      "metadata": {
        "id": "gnjXrpq1rcwK"
      }
    },
    {
      "cell_type": "markdown",
      "source": [
        "Answer:\n",
        "\n",
        "Statistics is a branch of mathematics that deals with the collection, organization, analysis, and interpretation of data. It is divided into two main categories: descriptive statistics and inferential statistics.\n",
        "\n",
        "**Descriptive Statistics:**\n",
        "Descriptive statistics refers to the methods used to summarize, describe, and present data in a meaningful form. It does not involve making predictions or generalizations beyond the data at hand. Instead, it provides a clear picture of what the data shows.\n",
        "Some common tools of descriptive statistics are measures of central tendency (mean, median, mode) and measures of dispersion (range, variance, standard deviation). Graphical methods such as bar charts, histograms, and pie charts are also used to visualize data.\n",
        "\n",
        "*Example:*\n",
        "Consider the marks of 30 students in a class. By calculating the average mark (say 72), identifying the highest mark (95), and the lowest mark (40), the teacher can describe the overall performance of the class. This is an example of descriptive statistics because the analysis is restricted only to those 30 students.\n",
        "\n",
        "**Inferential Statistics:**\n",
        "Inferential statistics, on the other hand, is concerned with drawing conclusions, predictions, or inferences about a larger population based on a sample of data. Since it is often not possible to study an entire population, inferential statistics uses probability theory, sampling techniques, and hypothesis testing to make generalisations.\n",
        "Techniques like confidence intervals, hypothesis testing, regression analysis, and correlation fall under inferential statistics.\n",
        "\n",
        "*Example:*\n",
        "Suppose a company wants to know the average salary of IT professionals in India. It is not possible to collect data from every IT professional, so the company selects a sample of 1,000 professionals. If the average salary in the sample is ₹8.2 lakhs per year, inferential statistics helps estimate the population average salary, say between ₹7.9 and ₹8.5 lakhs with 95% confidence. This process of using a sample to make conclusions about the population is inferential statistics.\n",
        "\n",
        "The key difference between the two is- **Descriptive statistics** describe the data collected. **Inferential statistics** uses sample data to make predictions or generalizations about the population.\n"
      ],
      "metadata": {
        "id": "pcJuVESJrlJJ"
      }
    },
    {
      "cell_type": "markdown",
      "source": [
        "# Question 2: What is sampling in statistics? Explain the differences between random and stratified sampling."
      ],
      "metadata": {
        "id": "i1VWVmS9r3l-"
      }
    },
    {
      "cell_type": "markdown",
      "source": [
        "Answer:\n",
        "\n",
        "In statistics, sampling is the process of selecting a subset of individuals, items, or observations from a larger group called the population. The aim of sampling is to study the selected group (sample) and use the results to make conclusions about the entire population in an easy way.\n",
        "\n",
        "**Random Sampling:**\n",
        "In random sampling, every individual in the population has an equal chance of being selected. Here, a sample is chosen by simple methods like lottery, random number tables, or computer based random number generators.\n",
        "\n",
        "*Example:*\n",
        "Suppose a teacher wants to survey 10 students out of a class of 50. She writes all 50 names on slips, puts them in a box, and randomly picks 10 slips. This is random sampling.\n",
        "\n",
        "**Stratified Sampling:**\n",
        "In stratified sampling, the population is first divided into different subgroups or strata based on specific characteristics (e.g., gender, age, income level). Then, random samples are taken from each stratum. Here, the method used is identifying relevant strata, dividing the population accordingly, selecting random samples from each stratum, either proportionally or equally.\n",
        "\n",
        "*Example:*\n",
        "If a college wants to survey 100 students about sports preferences, and the student body consists of 60% males and 40% females, then the sample should include 60 males and 40 females chosen randomly from their respective groups. This ensures fair representation of both genders.\n",
        "\n",
        "**Key Differences Between Random and Stratified Sampling:**\n",
        "\n",
        "**Random Sampling:**\n",
        "\n",
        "•\tEvery member of the population has equal chance of selection.\n",
        "\n",
        "•\tWorks best when population is homogeneous (similar).\n",
        "\n",
        "•\tMay not represent all groups accurately.\n",
        "\n",
        "•\tSimple and easy to conduct.\n",
        "\n",
        "**Stratified Sampling:**\n",
        "\n",
        "•\tPopulation is divided into strata, and random samples are taken from each stratum.\n",
        "\n",
        "•\tUseful when population is heterogeneous (diverse).\n",
        "\n",
        "•\tEnsures all groups are represented.\n",
        "\n",
        "•\tMore complex, requires prior knowledge of population characteristics.\n"
      ],
      "metadata": {
        "id": "CWuO9ojPsMcA"
      }
    },
    {
      "cell_type": "markdown",
      "source": [
        "# Question 3: Define mean, median, and mode. Explain why these measures of central tendency are important."
      ],
      "metadata": {
        "id": "QZUeGDaPso4f"
      }
    },
    {
      "cell_type": "markdown",
      "source": [
        "Answer:\n",
        "\n",
        "In statistics, **measures of central tendency** are values that represent the center or typical value of a dataset. They provide a single number that summarizes an entire distribution, making it easier to understand and compare data. The three most common measures of central tendency are **mean, median, and mode.**\n",
        "\n",
        "**Mean (Arithmetic Average):**\n",
        "\n",
        "The mean is obtained by adding all the values in a dataset and dividing the sum by the total number of values.\n",
        "\n",
        "**Formula**: Mean=Number of observations / Sum of all observations\n",
        "\n",
        "*Example:*\n",
        "\n",
        "For the numbers 5, 10, 15, 20\n",
        "\n",
        "Mean=5+10+15+20/4=50/4=12.5\n",
        "\n",
        "**Median:**\n",
        "\n",
        "The median is the middle value when the data is arranged in ascending or descending order. If there are an odd number of observations, the median is the middle one. If there are an even number of observations, the median is the average of the two middle values.\n",
        "\n",
        "*Example:*\n",
        "\n",
        "For the data 2, 4, 6, 8, 10 → Median = 6 (middle value).\n",
        "\n",
        "For the data 2, 4, 6, 8 → Median = (4 + 6)/2 = 5\n",
        "\n",
        "**Mode:**\n",
        "\n",
        "The mode is the value that occurs most frequently in a dataset. A dataset may have One mode (unimodal), Two modes (bimodal), or more (multimodal).\n",
        "\n",
        "*Example:*\n",
        "\n",
        "For the data 3, 5, 7, 5, 9, 5, 11, 18 → Mode = 5 (since it appears most often).\n",
        "\n",
        "**Importance of Mean, Median, and Mode:**\n",
        "\n",
        "1.\tSummarization of Data: They reduce a large dataset into a single representative value.\n",
        "\n",
        "2.\tComparison: They allow comparisons between different datasets (e.g., average income of two cities).\n",
        "\n",
        "3.\tDecision-Making: Widely used in business, economics, education, and research to make informed decisions.\n",
        "\n",
        "4.\tUnderstanding Distribution:\n",
        "\n",
        "  •\tMean is affected by extreme values (outliers), so it shows the “balance point.”\n",
        "\n",
        "  •\tMedian is useful when data is skewed, as it gives the central value.\n",
        "\n",
        "  •\tMode is useful for categorical data (e.g., most popular product, most common exam score).\n",
        "\n",
        "5.\tFoundation for Further Statistics: They are the basis for advanced statistical measures like variance, standard deviation, and hypothesis testing."
      ],
      "metadata": {
        "id": "9iOxk4j4sy4x"
      }
    },
    {
      "cell_type": "markdown",
      "source": [
        "# Question 4: Explain skewness and kurtosis. What does a positive skew imply about the data?"
      ],
      "metadata": {
        "id": "1xIPvhsBtOFF"
      }
    },
    {
      "cell_type": "markdown",
      "source": [
        "Answer:\n",
        "\n",
        "In statistics, understanding the shape of a distribution is important in addition to knowing its central tendency and dispersion. Two important measures that describe the shape of data distribution are **skewness** and **kurtosis**.\n",
        "\n",
        "**Skewness:**\n",
        "\n",
        "Skewness measures the asymmetry of a data distribution around its mean. A perfectly symmetrical distribution (like the normal distribution) has zero skewness.\n",
        "\n",
        "**Types of skewness:**\n",
        "\n",
        "**Positive Skew (Right Skew):** Tail on the right-hand side is longer; most data values are concentrated on the left.\n",
        "\n",
        "**Negative Skew (Left Skew):** Tail on the left-hand side is longer; most data values are concentrated on the right.\n",
        "\n",
        "**Kurtosis:**\n",
        "\n",
        "Kurtosis measures the \"peakedness\" or the degree of sharpness of the peak of a distribution compared to a normal distribution.\n",
        "\n",
        "**Types of kurtosis:**\n",
        "\n",
        "**Mesokurtic:** Normal distribution (kurtosis = 3).\n",
        "\n",
        "**Leptokurtic:** More peaked than normal; heavy tails (kurtosis > 3).\n",
        "\n",
        "**Platykurtic:** Flatter than normal; light tails (kurtosis < 3).\n",
        "\n",
        "**Interpretation:** Higher kurtosis indicates more extreme values (outliers) in the tails, while lower kurtosis indicates fewer extreme values.\n",
        "\n",
        "**What Does a Positive Skew Imply About the Data?**\n",
        "\n",
        "In a positively skewed distribution:\n",
        "\n",
        "•\tThe tail extends to the right (towards larger values).\n",
        "\n",
        "•\tThe **mean > median > mode.**\n",
        "\n",
        "•\tMost values lie below the mean, but a few very large values pull the mean to the right.\n",
        "\n",
        "*Example:* Income distribution in a country is usually positively skewed. Most people earn moderate salaries, but a few very high incomes raise the mean considerably."
      ],
      "metadata": {
        "id": "GQ5BeP8FuAkj"
      }
    },
    {
      "cell_type": "markdown",
      "source": [
        "# Question 5: Implement a Python program to compute the mean, median, and mode of a given list of numbers. numbers = [12, 15, 12, 18, 19, 12, 20, 22, 19, 19, 24, 24, 24, 26, 28]"
      ],
      "metadata": {
        "id": "hHBHDKfruf1c"
      }
    },
    {
      "cell_type": "code",
      "source": [
        "#Answer\n",
        "\n",
        "import statistics as stats\n",
        "\n",
        "numbers = [12, 15, 12, 18, 19, 12, 20, 22, 19, 19, 24, 24, 24, 26, 28]\n",
        "\n",
        "# Calculating mean, median, and mode\n",
        "mean_value = stats.mean(numbers)\n",
        "median_value = stats.median(numbers)\n",
        "mode_value = stats.mode(numbers)\n",
        "\n",
        "# Display results\n",
        "print(\"Numbers:\", numbers)\n",
        "print(\"Mean:\", mean_value)\n",
        "print(\"Median:\", median_value)\n",
        "print(\"Mode:\", mode_value)"
      ],
      "metadata": {
        "colab": {
          "base_uri": "https://localhost:8080/"
        },
        "id": "CLlpxLT0u-XB",
        "outputId": "7961a582-dfd4-44ca-b26f-05ee511d33ba"
      },
      "execution_count": null,
      "outputs": [
        {
          "output_type": "stream",
          "name": "stdout",
          "text": [
            "Numbers: [12, 15, 12, 18, 19, 12, 20, 22, 19, 19, 24, 24, 24, 26, 28]\n",
            "Mean: 19.6\n",
            "Median: 19\n",
            "Mode: 12\n"
          ]
        }
      ]
    },
    {
      "cell_type": "markdown",
      "source": [
        "# Question 6: Compute the covariance and correlation coefficient between the following two datasets provided as lists in Python: list_x = [10, 20, 30, 40, 50] list_y = [15, 25, 35, 45, 60]"
      ],
      "metadata": {
        "id": "iJRq0Xj5vI4N"
      }
    },
    {
      "cell_type": "code",
      "source": [
        "#Answer\n",
        "\n",
        "import statistics as stats\n",
        "\n",
        "list_x = [10, 20, 30, 40, 50]\n",
        "list_y = [15, 25, 35, 45, 60]\n",
        "\n",
        "n = len(list_x)\n",
        "\n",
        "# Means\n",
        "mean_x = stats.mean(list_x)\n",
        "mean_y = stats.mean(list_y)\n",
        "\n",
        "# Covariance\n",
        "cov_xy = sum((list_x[i] - mean_x) * (list_y[i] - mean_y) for i in range(n)) / (n - 1)\n",
        "\n",
        "# Correlation coefficient\n",
        "corr_xy = stats.correlation(list_x, list_y)\n",
        "\n",
        "print(\"Mean of X:\", mean_x)\n",
        "print(\"Mean of Y:\", mean_y)\n",
        "print(\"Covariance:\", cov_xy)\n",
        "print(\"Correlation Coefficient:\", corr_xy)"
      ],
      "metadata": {
        "colab": {
          "base_uri": "https://localhost:8080/"
        },
        "id": "ZzvoO0BsvL7Z",
        "outputId": "e8f08157-7ca4-41f0-df5c-483b70235ab2"
      },
      "execution_count": null,
      "outputs": [
        {
          "output_type": "stream",
          "name": "stdout",
          "text": [
            "Mean of X: 30\n",
            "Mean of Y: 36\n",
            "Covariance: 275.0\n",
            "Correlation Coefficient: 0.9958932064677039\n"
          ]
        }
      ]
    },
    {
      "cell_type": "markdown",
      "source": [
        "# Question 7: Write a Python script to draw a boxplot for the following numeric list and identify its outliers. Explain the result:\n",
        "\n",
        "data = [12, 14, 14, 15, 18, 19, 19, 21, 22, 22, 23, 23, 24, 26, 29, 35]\n"
      ],
      "metadata": {
        "id": "zfyWB14Bvkt6"
      }
    },
    {
      "cell_type": "code",
      "source": [
        "#Answer\n",
        "\n",
        "import matplotlib.pyplot as plt\n",
        "\n",
        "data = [12, 14, 14, 15, 18, 19, 19, 21, 22, 22, 23, 23, 24, 26, 29, 35]\n",
        "\n",
        "# Draw boxplot\n",
        "plt.boxplot(data, vert=True, patch_artist=True, notch=True)\n",
        "plt.title(\"Boxplot of Data\")\n",
        "plt.ylabel(\"Values\")\n",
        "plt.show()\n",
        "\n",
        "# Sort the data\n",
        "data_sorted = sorted(data)\n",
        "n = len(data_sorted)\n",
        "\n",
        "# Function to calculate median\n",
        "def median(lst):\n",
        "    mid = len(lst) // 2\n",
        "    if len(lst) % 2 == 0:\n",
        "        return (lst[mid-1] + lst[mid]) / 2\n",
        "    else:\n",
        "        return lst[mid]\n",
        "\n",
        "# Quartiles\n",
        "Q2 = median(data_sorted)\n",
        "Q1 = median(data_sorted[:n//2])\n",
        "Q3 = median(data_sorted[(n+1)//2:])\n",
        "\n",
        "# Interquartile Range (IQR)\n",
        "IQR = Q3 - Q1\n",
        "\n",
        "# Outlier thresholds\n",
        "lower_bound = Q1 - 1.5 * IQR\n",
        "upper_bound = Q3 + 1.5 * IQR\n",
        "\n",
        "# Identify outliers\n",
        "outliers = [x for x in data if x < lower_bound or x > upper_bound]\n",
        "\n",
        "print(\"Q1:\", Q1)\n",
        "print(\"Q3:\", Q3)\n",
        "print(\"IQR:\", IQR)\n",
        "print(\"Lower Bound:\", lower_bound)\n",
        "print(\"Upper Bound:\", upper_bound)\n",
        "print(\"Outliers:\", outliers)"
      ],
      "metadata": {
        "colab": {
          "base_uri": "https://localhost:8080/",
          "height": 563
        },
        "id": "NAVz5jatvnsS",
        "outputId": "79de610c-8094-4a35-877d-740f6b02bdba"
      },
      "execution_count": null,
      "outputs": [
        {
          "output_type": "display_data",
          "data": {
            "text/plain": [
              "<Figure size 640x480 with 1 Axes>"
            ],
            "image/png": "[encoded data removed]"
          },
          "metadata": {}
        },
        {
          "output_type": "stream",
          "name": "stdout",
          "text": [
            "Q1: 16.5\n",
            "Q3: 23.5\n",
            "IQR: 7.0\n",
            "Lower Bound: 6.0\n",
            "Upper Bound: 34.0\n",
            "Outliers: [35]\n"
          ]
        }
      ]
    },
    {
      "cell_type": "markdown",
      "source": [
        "***Explanation of the Result:***\n",
        "\n",
        "•\tQ1 = 16.5 and Q3 = 23.5 → The middle 50% of the data lies between 16.5 and 23.5.\n",
        "\n",
        "•\tIQR = 7.0 → Measures the spread of the central 50% of values.\n",
        "\n",
        "•\tLower Bound = 6.0 and Upper Bound = 34.0 → Values outside this range are considered outliers.\n",
        "\n",
        "•\tOutliers = [35] → The value 35 is unusually high compared to the rest of the data and lies beyond the upper bound.\n"
      ],
      "metadata": {
        "id": "rnZJhGa6vyPO"
      }
    },
    {
      "cell_type": "markdown",
      "source": [
        "# Question 8: You are working as a data analyst in an e-commerce company. The marketing team wants to know if there is a relationship between advertising spend and daily sales.\n",
        "● Explain how you would use covariance and correlation to explore this relationship.\n",
        "\n",
        "● Write Python code to compute the correlation between the two lists:\n",
        "\n",
        "advertising_spend = [200, 250, 300, 400, 500]\n",
        "\n",
        "daily_sales = [2200, 2450, 2750, 3200, 4000]"
      ],
      "metadata": {
        "id": "gsKubp5fv16X"
      }
    },
    {
      "cell_type": "markdown",
      "source": [
        "Answer:\n",
        "\n",
        "**How to use covariance and correlation to explore the relationship:**\n",
        "\n",
        "When analyzing the relationship between advertising spend and daily sales, we can use:\n",
        "\n",
        "**Covariance-**\n",
        "\n",
        "•\tMeasures the direction of the relationship between two variables.\n",
        "\n",
        "•\tPositive covariance → as advertising spend increases, daily sales tend to increase.\n",
        "\n",
        "•\tNegative covariance → as advertising spend increases, daily sales tend to decrease.\n",
        "\n",
        "•\tLimitation: Magnitude depends on units, so it’s hard to interpret directly.\n",
        "\n",
        "**Correlation Coefficient-**\n",
        "\n",
        "•\tStandardizes covariance to a unitless value between −1 and +1.\n",
        "\n",
        "•\tr ≈ +1 → strong positive linear relationship.\n",
        "\n",
        "•\tr ≈ −1 → strong negative linear relationship.\n",
        "\n",
        "•\tr ≈ 0 → little or no linear relationship.\n",
        "\n",
        "•\tUsing correlation allows the marketing team to quantify how strongly advertising spend influences daily sales.\n"
      ],
      "metadata": {
        "id": "_c_caQr9wHvw"
      }
    },
    {
      "cell_type": "code",
      "source": [
        "#Python code to compute the correlation between the two lists:\n",
        "\n",
        "import statistics as stats\n",
        "\n",
        "advertising_spend = [200, 250, 300, 400, 500]\n",
        "daily_sales = [2200, 2450, 2750, 3200, 4000]\n",
        "\n",
        "# Compute mean\n",
        "mean_ad = stats.mean(advertising_spend)\n",
        "mean_sales = stats.mean(daily_sales)\n",
        "\n",
        "# Compute covariance\n",
        "n = len(advertising_spend)\n",
        "covariance = sum((advertising_spend[i] - mean_ad) * (daily_sales[i] - mean_sales) for i in range(n)) / (n - 1)\n",
        "\n",
        "# Compute correlation coefficient\n",
        "correlation = stats.correlation(advertising_spend, daily_sales)\n",
        "\n",
        "print(\"Mean Advertising Spend:\", mean_ad)\n",
        "print(\"Mean Daily Sales:\", mean_sales)\n",
        "print(\"Covariance:\", covariance)\n",
        "print(\"Correlation Coefficient:\", correlation)"
      ],
      "metadata": {
        "colab": {
          "base_uri": "https://localhost:8080/"
        },
        "id": "1wUcj9klwWOA",
        "outputId": "1dedfae1-dd93-48d6-949c-1793b94490db"
      },
      "execution_count": null,
      "outputs": [
        {
          "output_type": "stream",
          "name": "stdout",
          "text": [
            "Mean Advertising Spend: 330\n",
            "Mean Daily Sales: 2920\n",
            "Covariance: 84875.0\n",
            "Correlation Coefficient: 0.9935824101653327\n"
          ]
        }
      ]
    },
    {
      "cell_type": "markdown",
      "source": [
        "# Question 9: Your team has collected customer satisfaction survey data on a scale of 1-10 and wants to understand its distribution before launching a new product.\n",
        "● Explain which summary statistics and visualizations (e.g. mean, standard deviation, histogram) you’d use.\n",
        "\n",
        "● Write Python code to create a histogram using Matplotlib for the survey data:\n",
        "\n",
        "survey_scores = [7, 8, 5, 9, 6, 7, 8, 9, 10, 4, 7, 6, 9, 8, 7]\n"
      ],
      "metadata": {
        "id": "v39Z7c6fwkZ0"
      }
    },
    {
      "cell_type": "markdown",
      "source": [
        "Answer:\n",
        "\n",
        "**Explain which summary statistics and visualizations (e.g. mean, standard deviation, histogram) you’d use:**\n",
        "\n",
        "To understand the distribution of customer satisfaction scores, the following summary statistics and visualizations are useful:\n",
        "\n",
        "**Summary Statistics**\n",
        "\n",
        "•\t**Mean:** Shows the average satisfaction score, indicating overall customer sentiment.\n",
        "\n",
        "•\t**Median:** Identifies the middle score, helpful if the data is skewed.\n",
        "\n",
        "•\t**Mode:** Reveals the most frequently given score, showing the most common customer response.\n",
        "\n",
        "•\t**Standard Deviation (SD):** Measures how spread out the scores are; low SD → most customers gave similar ratings, high SD → varied opinions.\n",
        "\n",
        "•\t**Range / Min-Max:** Highlights the spread and extremes of scores.\n",
        "\n",
        "**Visualizations**\n",
        "\n",
        "•\t**Histogram:** Displays the frequency of each score, helping identify patterns, skewness, or clusters.\n",
        "\n",
        "•\t**Boxplot:** Shows the median, quartiles, and any outliers, giving a clear picture of data spread.\n",
        "\n",
        "•\t**Bar Chart:** Useful for discrete scales (1–10) to visualize which scores are most common."
      ],
      "metadata": {
        "id": "Qdu8v_0WwrwQ"
      }
    },
    {
      "cell_type": "code",
      "source": [
        "#Python code to create a histogram using Matplotlib for the survey data:\n",
        "\n",
        "import matplotlib.pyplot as plt\n",
        "\n",
        "# Survey_scores\n",
        "survey_scores = [7, 8, 5, 9, 6, 7, 8, 9, 10, 4, 7, 6, 9, 8, 7]\n",
        "\n",
        "# Create histogram\n",
        "plt.hist(survey_scores, bins=range(4, 12), edgecolor='black', align='left')\n",
        "plt.title(\"Histogram of Customer Satisfaction Scores\")\n",
        "plt.xlabel(\"Survey Score\")\n",
        "plt.ylabel(\"Number of Customers\")\n",
        "plt.xticks(range(4, 11))\n",
        "plt.show()"
      ],
      "metadata": {
        "colab": {
          "base_uri": "https://localhost:8080/",
          "height": 472
        },
        "id": "TQw37qUExfw2",
        "outputId": "a3a1adb3-5c8d-4a98-83aa-45d9d6f74581"
      },
      "execution_count": null,
      "outputs": [
        {
          "output_type": "display_data",
          "data": {
            "text/plain": [
              "<Figure size 640x480 with 1 Axes>"
            ],
            "image/png": "[encoded data removed]"
          },
          "metadata": {}
        }
      ]
    }
  ]
}