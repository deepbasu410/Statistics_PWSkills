{
  "nbformat": 4,
  "nbformat_minor": 0,
  "metadata": {
    "colab": {
      "provenance": []
    },
    "kernelspec": {
      "name": "python3",
      "display_name": "Python 3"
    },
    "language_info": {
      "name": "python"
    }
  },
  "cells": [
    {
      "cell_type": "markdown",
      "source": [
        "# Question 1: What is a random variable in probability theory?"
      ],
      "metadata": {
        "id": "Ni3oY34-5Gu_"
      }
    },
    {
      "cell_type": "markdown",
      "source": [
        "Answer:\n",
        "\n",
        "In probability theory, a **random variable** is a numerical quantity whose value is determined by the outcome of a random experiment. It acts as a bridge between a random experiment (which may have uncertain outcomes) and numerical analysis (which allows us to apply mathematical tools). Instead of directly working with events like “getting a head in a coin toss” or “rolling a 6 on a die,” we assign numbers to these outcomes using a random variable.\n",
        "\n",
        "A random variable is formally defined as a function that maps each outcome of a sample space to a real number.\n",
        "\n",
        "X:S→R\n",
        "\n",
        "where S is the sample space and X is the random variable.\n",
        "\n",
        "**Types of Random Variables:**\n",
        "\n",
        "**1. Discrete Random Variable**\n",
        "\n",
        "Takes only countable values (finite or countably infinite).\n",
        "\n",
        "*Example:*\n",
        "\n",
        "Tossing a coin: Let X=1 if head appears, X=0 if tail appears.\n",
        "\n",
        "**2. Continuous Random Variable**\n",
        "\n",
        "Takes uncountably infinite values, usually over an interval.\n",
        "\n",
        "*Example:*\n",
        "\n",
        "The height of students in a class (can be any real number within a range).\n",
        "\n",
        "The time taken for a computer to process a task.\n",
        "\n",
        "**Importance in Probability and Statistics**\n",
        "\n",
        "1. **Random variables** allow us to apply probability distributions (like Binomial, Poisson, Normal, etc.) to real-world problems.\n",
        "\n",
        "2. They provide a structured way to calculate expected values, variances, and probabilities of events.\n",
        "\n",
        "3. They are essential in data science, machine learning, and decision-making under uncertainty."
      ],
      "metadata": {
        "id": "yIx-enfQ5IBS"
      }
    },
    {
      "cell_type": "markdown",
      "source": [
        "# Question 2: What are the types of random variables?\n"
      ],
      "metadata": {
        "id": "GJ8ykvOo6Ur9"
      }
    },
    {
      "cell_type": "markdown",
      "source": [
        "Answer:\n",
        "\n",
        "In probability theory, a random variable is a function that assigns a numerical value to each outcome of a random experiment. Random variables are classified based on the type of values they can take. Broadly, they are of two types: **Discrete Random Variables** and **Continuous Random Variables**.\n",
        "\n",
        "**Discrete Random Variable**\n",
        "\n",
        "A discrete random variable is one that can take a finite or countably infinite set of distinct values. These values are usually whole numbers and arise from experiments where outcomes can be listed.\n",
        "\n",
        "*Examples:*\n",
        "\n",
        "* Rolling a fair die: Let X represent the outcome. Possible values are {1,2,3,4,5,6}.\n",
        "\n",
        "* Tossing 3 coins: Let Y represent the number of heads. Possible values are {0,1,2,3}.\n",
        "\n",
        "* Number of students absent in a class on a given day.\n",
        "\n",
        "*Probability Distribution:*\n",
        "\n",
        "For a discrete random variable, probabilities are assigned to each value using a **Probability Mass Function (PMF)**.\n",
        "\n",
        "**Continuous Random Variable**\n",
        "\n",
        "A continuous random variable can take uncountably infinite values over an interval of real numbers. Since there are infinitely many possible outcomes, the probability of the random variable taking any exact value is zero. Instead, probabilities are measured over intervals.\n",
        "\n",
        "*Examples:*\n",
        "\n",
        "* Height or weight of students in a class.\n",
        "\n",
        "* Time taken by a computer to execute a task.\n",
        "\n",
        "* The exact amount of rainfall (in mm) on a given day.\n",
        "\n",
        "*Probability Distribution:*\n",
        "\n",
        "For continuous random variables, probabilities are described using a **Probability Density Function (PDF).**\n",
        "\n",
        "Also, there is **Mixed-Type Random Variable** (less common, advanced):\n",
        "\n",
        "In some situations, a random variable can have both discrete and continuous components. These are called mixed random variables.\n",
        "\n",
        "*Example:*\n",
        "\n",
        "Insurance claims: With some probability, the claim may be exactly 0 (discrete part), but if a claim is made, the amount could take continuous values."
      ],
      "metadata": {
        "id": "knKqhY0V7ts8"
      }
    },
    {
      "cell_type": "markdown",
      "source": [
        "# Question 3: Explain the difference between discrete and continuous distributions."
      ],
      "metadata": {
        "id": "4yQ5Q8xN9vZr"
      }
    },
    {
      "cell_type": "markdown",
      "source": [
        "Answer:\n",
        "\n",
        "In probability theory, the behavior of a random variable is described using a probability distribution. The distribution explains how probabilities are assigned to different possible values of the random variable. Based on whether the variable is discrete or continuous, we have **discrete distributions** and **continuous distributions**.\n",
        "\n",
        "**Discrete Distributions**\n",
        "\n",
        "A discrete distribution describes the probability of occurrence of each possible value of a discrete random variable (a variable that takes countable values).\n",
        "\n",
        "*Key Features:*\n",
        "\n",
        "* The random variable has distinct, separate values (e.g., 0, 1, 2, …).\n",
        "\n",
        "* Probabilities are given using a Probability Mass Function (PMF).\n",
        "\n",
        "* The sum of all probabilities is always 1.\n",
        "\n",
        "*Examples:*\n",
        "\n",
        "* Binomial Distribution: Number of successes in 𝑛 independent Bernoulli trials.\n",
        "\n",
        "* Poisson Distribution: Number of phone calls received in an hour at a call center.\n",
        "\n",
        "* Geometric Distribution: Number of trials until the first success.\n",
        "\n",
        "**Continuous Distributions**\n",
        "\n",
        "A continuous distribution describes the probability distribution of a continuous random variable (a variable that can take uncountably infinite values in an interval).\n",
        "\n",
        "*Key Features:*\n",
        "\n",
        "* The variable takes values over a continuum (real numbers).\n",
        "\n",
        "* Probabilities are expressed using a Probability Density Function (PDF).\n",
        "\n",
        "* The probability at a single point is always 0; probabilities are calculated over intervals.\n",
        "\n",
        "* The total area under the PDF curve is 1.\n",
        "\n",
        "*Examples:*\n",
        "\n",
        "* Normal Distribution: Used to model heights, weights, and test scores.\n",
        "\n",
        "* Exponential Distribution: Models waiting times between events.\n",
        "\n",
        "* Uniform Distribution: All values in an interval are equally likely.\n",
        "\n",
        "**Key Differences Between Discrete and Continuous Distributions:**\n",
        "\n",
        "**Discrete Distribution**\n",
        "\n",
        "* Takes countable values (e.g., 0,1,2,…)\n",
        "* Uses Probability Mass Function (PMF)\n",
        "* Probability at a Single Value is Non-zero\n",
        "* Computation of Probabilities - Sum of probabilities\n",
        "\n",
        "**Continuous Distribution**\n",
        "\n",
        "* Takes uncountably infinite values (real numbers in an interval)\n",
        "* Uses Probability Density Function (PDF)\n",
        "* Probability at a Single Value is always zero\n",
        "* Computation of Probabilities - Area under the curve (integration)"
      ],
      "metadata": {
        "id": "gp_okLZ0iuZr"
      }
    },
    {
      "cell_type": "markdown",
      "source": [
        "# Question 4: What is a binomial distribution, and how is it used in probability?"
      ],
      "metadata": {
        "id": "hrym9uh5lFy_"
      }
    },
    {
      "cell_type": "markdown",
      "source": [
        "Answer:\n",
        "\n",
        "The binomial distribution is one of the most important discrete probability distributions in statistics and probability theory. It models the number of successes in a fixed number of independent trials, where each trial has exactly two possible outcomes- success or failure and the probability of success (p) is the same in each trial.\n",
        "\n",
        "We write this as: **X ~ Binomial(n, p)** where:\n",
        "\n",
        "* n = number of trials\n",
        "\n",
        "* p = probability of success\n",
        "\n",
        "* X = number of successes\n",
        "\n",
        "*Formula:*\n",
        "\n",
        "The probability of getting exactly k successes in n trials is:\n",
        "\n",
        "P(X = k) = (n choose k) * (p^k) * (1-p)^(n-k)\n",
        "\n",
        "where (n choose k) means the number of ways of choosing k successes out of n trials.\n",
        "\n",
        "**Mean and Variance:**\n",
        "\n",
        "* Mean (average number of successes) = n * p\n",
        "\n",
        "* Variance (spread of values) = n * p * (1-p)\n",
        "\n",
        "*Examples:*\n",
        "\n",
        "**Coin Toss**\n",
        "\n",
        "Toss a fair coin 5 times. Probability of getting exactly 3 heads is:\n",
        "\n",
        "P(X=3) = (5 choose 3) * (0.5^3) * (0.5^2) = 0.3125\n",
        "\n",
        "**Factory Defects**\n",
        "\n",
        "A bulb has a 10% chance of being defective. Out of 20 bulbs, the probability of exactly 2 defective bulbs is:\n",
        "\n",
        "P(X=2) = (20 choose 2) * (0.1^2) * (0.9^18)\n",
        "\n",
        "**Uses:**\n",
        "\n",
        "* In quality control (defective vs. non-defective).\n",
        "\n",
        "* In medical research (recovery vs. no recovery).\n",
        "\n",
        "* In surveys (agree vs. disagree).\n",
        "\n",
        "* In sports (goal vs. no goal in attempts)."
      ],
      "metadata": {
        "id": "rJluO5mNlLuM"
      }
    },
    {
      "cell_type": "markdown",
      "source": [
        "# Question 5: What is the standard normal distribution, and why is it important?"
      ],
      "metadata": {
        "id": "IcwBw-ZRn5js"
      }
    },
    {
      "cell_type": "markdown",
      "source": [
        "Answer:\n",
        "\n",
        "The standard normal distribution is a special type of normal distribution in statitics. A normal distribution is a bell-shaped curve that shows how values of a variable are spread. The standard normal is the one that has:\n",
        "\n",
        "* Mean = 0\n",
        "\n",
        "* Standard deviation = 1\n",
        "\n",
        "It is often called the **Z-distribution**, and the random variable is written as Z.\n",
        "\n",
        "**Features of the Standard Normal Distribution:**\n",
        "\n",
        "* It is symmetrical around the mean (0).\n",
        "\n",
        "* About 68% of the data lies between Z = –1 and Z = +1.\n",
        "\n",
        "* About 95% of the data lies between Z = –2 and Z = +2.\n",
        "\n",
        "* About 99.7% of the data lies between Z = –3 and Z = +3.\n",
        "\n",
        "* The total area under the curve is equal to 1.\n",
        "\n",
        "**Why is it Important?**\n",
        "\n",
        "1. Simplifies Calculations\n",
        "\n",
        "* Many problems in probability and statistics can be converted into standard normal form using the Z-score formula:\n",
        "\n",
        "  Z = (X – μ) / σ\n",
        "\n",
        "  where X = raw value, μ = mean, σ = standard deviation.\n",
        "\n",
        "2. Used in Hypothesis Testing\n",
        "\n",
        "* Helps in finding critical values and p-values.\n",
        "\n",
        "3. Basis of Confidence Intervals\n",
        "\n",
        "* Used to estimate population parameters.\n",
        "\n",
        "4. Real-World Applications\n",
        "\n",
        "* Heights, weights, exam scores, measurement errors often follow a normal distribution, so converting them to standard normal makes analysis easier.\n",
        "\n",
        "*Example:*\n",
        "\n",
        "Suppose the average height of students is 170 cm with a standard deviation of 10 cm. A student’s height is 185 cm.\n",
        "\n",
        "* Z = (185 – 170) / 10 = 1.5\n",
        "\n",
        "  This means the student is 1.5 standard deviations above the mean. Using Z-tables, we can find the probability of such heights."
      ],
      "metadata": {
        "id": "UQXOqXIjn6pS"
      }
    },
    {
      "cell_type": "markdown",
      "source": [
        "# Question 6: What is the Central Limit Theorem (CLT), and why is it critical in statistics?"
      ],
      "metadata": {
        "id": "j8QrIbyMpEfm"
      }
    },
    {
      "cell_type": "markdown",
      "source": [
        "Answer:\n",
        "\n",
        "The Central Limit Theorem (CLT) is one of the most important results in statistics. It states that:\n",
        "\n",
        "*When we take repeated random samples of a sufficiently large size (n) from any population with mean (μ) and standard deviation (σ), the sampling distribution of the sample mean will be approximately normal, regardless of the shape of the original population.*\n",
        "\n",
        "In short, no matter how the population is distributed (skewed, uniform, etc.), the distribution of the sample means tends to become a normal distribution as the sample size increases.\n",
        "\n",
        "**Key Points of CLT:**\n",
        "\n",
        "1. The mean of the sampling distribution = population mean (μ).\n",
        "\n",
        "2. The standard deviation of the sampling distribution = σ / √n (called the standard error).\n",
        "\n",
        "3. The larger the sample size, the closer the sampling distribution is to a normal distribution.\n",
        "\n",
        "4. Works well when n ≥ 30 (rule of thumb).\n",
        "\n",
        "**Why is CLT Critical in Statistics?**\n",
        "\n",
        "**1. Foundation for Inference**\n",
        "\n",
        "* Even if the population is not normal, we can still apply normal probability methods to sample means.\n",
        "\n",
        "**2. Hypothesis Testing**\n",
        "\n",
        "* Many statistical tests (z-test, t-test, chi-square, etc.) are based on the CLT.\n",
        "\n",
        "**3. Confidence Intervals**\n",
        "\n",
        "* CLT allows us to estimate population parameters (mean, proportion) using sample statistics.\n",
        "\n",
        "**4. Practical Applications**\n",
        "\n",
        "* Used in polling, quality control, machine learning, finance, and scientific research.\n",
        "\n",
        "*Example:*\n",
        "\n",
        "Suppose the marks of students in a college are not normally distributed. If we take random samples of size 50 and calculate their averages, the distribution of those averages will be approximately normal due to CLT. This allows us to apply z-scores and probability tables to make conclusions about the population mean."
      ],
      "metadata": {
        "id": "-6WyhoawpP6L"
      }
    },
    {
      "cell_type": "markdown",
      "source": [
        "# Question 7: What is the significance of confidence intervals in statistical analysis?"
      ],
      "metadata": {
        "id": "xxPHNPi_qumk"
      }
    },
    {
      "cell_type": "markdown",
      "source": [
        "Answer:\n",
        "\n",
        "A **confidence interval (CI)** is a range of values, calculated from sample data, that is likely to contain the true value of a population parameter (like the mean or proportion). Instead of giving a single estimate, a CI provides an interval estimate along with a confidence level (usually 90%, 95%, or 99%).\n",
        "\n",
        "**Definition** (in simple words):\n",
        "\n",
        "A 95% confidence interval means: *“If we take many random samples and compute a confidence interval for each, about 95% of those intervals will contain the true population parameter.”*\n",
        "\n",
        "**Significance of Confidence Intervals**\n",
        "\n",
        "**1. More Informative than Point Estimates**\n",
        "\n",
        "* A point estimate (like a sample mean) gives only one value, but a CI provides a whole range, showing both the estimate and its accuracy.\n",
        "\n",
        "**2. Measures Reliability of Estimates**\n",
        "\n",
        "* The width of the interval shows how precise the estimate is.\n",
        "\n",
        "* Narrow CI = high precision, Wide CI = less precision.\n",
        "\n",
        "**3. Accounts for Sampling Variability**\n",
        "\n",
        "* Since sample statistics differ from sample to sample, CI reflects this uncertainty.\n",
        "\n",
        "**4. Decision-Making in Research and Business**\n",
        "\n",
        "* Helps companies, doctors, and policymakers make evidence-based decisions by understanding possible ranges of values.\n",
        "\n",
        "**5. Foundation for Hypothesis Testing**\n",
        "\n",
        "* If a hypothesized value (like a population mean = 50) does not lie within the CI, we can reject the hypothesis at that confidence level.\n",
        "\n",
        "*Example:*\n",
        "\n",
        "Suppose a sample of 100 students has an average height of 170 cm with a 95% confidence interval of (168 cm, 172 cm).\n",
        "\n",
        "* This means we are 95% confident that the true average height of all students lies between 168 and 172 cm."
      ],
      "metadata": {
        "id": "vAjWmr1WqwtJ"
      }
    },
    {
      "cell_type": "markdown",
      "source": [
        "# Question 8: What is the concept of expected value in a probability distribution?"
      ],
      "metadata": {
        "id": "VLpF2AzTrsqH"
      }
    },
    {
      "cell_type": "markdown",
      "source": [
        "Answer:\n",
        "\n",
        "The **expected value (EV)** is a fundamental concept in probability and statistics. It represents the long-run average outcome of a random variable after repeating an experiment many times. In other words, it is the “theoretical mean” of a probability distribution.\n",
        "\n",
        "**Definition:**\n",
        "\n",
        "* For a discrete random variable X with possible values x₁, x₂, …, xn and probabilities P(x₁), P(x₂), …, P(xn):\n",
        "\n",
        "  E(X) = Σ [xi * P(xi)]\n",
        "\n",
        "* For a continuous random variable X with probability density function f(x):\n",
        "\n",
        "  E(X) = ∫ x * f(x) dx over all possible values of X.\n",
        "\n",
        "**Significance of Expected Value:**\n",
        "\n",
        "**1. Measure of Central Tendency**\n",
        "\n",
        "* EV gives the “average” value of a distribution.\n",
        "\n",
        "**2. Predictive Power**\n",
        "\n",
        "* Useful in predicting long-term results of experiments.\n",
        "\n",
        "**3. Decision-Making**\n",
        "\n",
        "* Widely used in economics, business, insurance, and gambling.\n",
        "\n",
        "**4. Foundation for Other Statistics**\n",
        "\n",
        "* Variance and standard deviation are based on expected values.\n",
        "\n",
        "*Examples:*\n",
        "\n",
        "**1. Rolling a Die**\n",
        "\n",
        "* Possible outcomes: 1, 2, 3, 4, 5, 6 (each with probability 1/6).\n",
        "\n",
        "* Expected value = (1+2+3+4+5+6)/6 = 21/6 = 3.5.\n",
        "\n",
        "* Meaning: On average, the outcome of rolling a die is 3.5.\n",
        "\n",
        "**2. Business Decision**\n",
        "\n",
        "* A company launches a product:\n",
        "\n",
        "  * 60% chance of profit ₹50,000\n",
        "\n",
        "  * 40% chance of loss ₹20,000\n",
        "\n",
        "* EV = (0.6 × 50,000) + (0.4 × –20,000) = 30,000 – 8,000 = ₹22,000\n",
        "\n",
        "* This shows the average expected gain per launch.\n",
        "\n",
        "In short, The **expected value** summarizes the center of a probability distribution by showing the average outcome if the experiment were repeated many times. It is a vital tool in probability theory, helping in prediction, risk analysis, and decision-making."
      ],
      "metadata": {
        "id": "sMuMeiZBr8F8"
      }
    },
    {
      "cell_type": "markdown",
      "source": [
        "# Question 9: Write a Python program to generate 1000 random numbers from a normal distribution with mean = 50 and standard deviation = 5. Compute its mean and standard deviation using NumPy, and draw a histogram to visualize the distribution."
      ],
      "metadata": {
        "id": "V58pmhJAtNUr"
      }
    },
    {
      "cell_type": "code",
      "source": [
        "#Answer\n",
        "\n",
        "import numpy as np\n",
        "import matplotlib.pyplot as plt\n",
        "\n",
        "# Generate 1000 random numbers from a normal distribution\n",
        "# with mean = 50 and standard deviation = 5\n",
        "data = np.random.normal(loc=50, scale=5, size=1000)\n",
        "\n",
        "# Compute mean and standard deviation using NumPy\n",
        "mean_value = np.mean(data)\n",
        "std_dev_value = np.std(data)\n",
        "\n",
        "# Display the mean and standard deviation\n",
        "print(\"Generated Data Summary:\")\n",
        "print(f\"Mean = {mean_value:.2f}\")\n",
        "print(f\"Standard Deviation = {std_dev_value:.2f}\")\n",
        "\n",
        "# Draw a histograM\n",
        "plt.figure(figsize=(8, 5))\n",
        "plt.hist(data, bins=30, color='skyblue', edgecolor='black')\n",
        "plt.title(\"Histogram of Normally Distributed Data (Mean=50, SD=5)\")\n",
        "plt.xlabel(\"Value\")\n",
        "plt.ylabel(\"Frequency\")\n",
        "plt.grid(True, linestyle='--', alpha=0.6)\n",
        "plt.show()"
      ],
      "metadata": {
        "colab": {
          "base_uri": "https://localhost:8080/",
          "height": 542
        },
        "id": "QBBwIzeMPpaK",
        "outputId": "2d498c27-5720-48bd-ab17-3ba541c30a96"
      },
      "execution_count": null,
      "outputs": [
        {
          "output_type": "stream",
          "name": "stdout",
          "text": [
            "Generated Data Summary:\n",
            "Mean = 49.88\n",
            "Standard Deviation = 5.03\n"
          ]
        },
        {
          "output_type": "display_data",
          "data": {
            "text/plain": [
              "<Figure size 800x500 with 1 Axes>"
            ],
            "image/png": "[encoded data removed]"
          },
          "metadata": {}
        }
      ]
    },
    {
      "cell_type": "markdown",
      "source": [
        "# Question 10: You are working as a data analyst for a retail company. The company has collected daily sales data for 2 years and wants you to identify the overall sales trend.\n",
        "\n",
        "daily_sales = [220, 245, 210, 265, 230, 250, 260, 275, 240, 255,\n",
        "235, 260, 245, 250, 225, 270, 265, 255, 250, 260]\n",
        "\n",
        "  ● **Explain how you would apply the Central Limit Theorem to estimate the average saleswith a 95% confidence interval.**\n",
        "  \n",
        "  ● **Write the Python code to compute the mean sales and its confidence interval.**"
      ],
      "metadata": {
        "id": "ag63xchYQF8x"
      }
    },
    {
      "cell_type": "markdown",
      "source": [
        "Answer:\n",
        "\n",
        "**Applying the Central Limit Theorem (CLT) to Estimate Average Sales with a 95% Confidence Interval:**\n",
        "\n",
        "The **Central Limit Theorem (CLT)** states that if we take many random samples from a population, the sampling distribution of the sample mean will be approximately normal, regardless of the original data distribution — especially when the sample size is large.\n",
        "\n",
        "In this question, the company’s daily sales data can be treated as a sample from all possible sales days.\n",
        "Using the CLT, we can estimate the average daily sales and build a **95% confidence interval (CI)** to represent the range in which the true population mean (average sales) likely falls.\n",
        "\n",
        "**Steps to Apply CLT-**\n",
        "\n",
        "1. Calculate the sample mean (𝑥) and sample standard deviation (s).\n",
        "\n",
        "2. Find the standard error of the mean (SE):\n",
        "\n",
        "    SE = s / √n\n",
        "\n",
        "3. For a 95% confidence level, use the Z-value = 1.96 (from the standard normal table).\n",
        "\n",
        "4. Compute the confidence interval:\n",
        "\n",
        "    * Lower limit = mean – (1.96 × SE)\n",
        "\n",
        "    * Upper limit = mean + (1.96 × SE)\n",
        "\n",
        "This gives a range in which the true average daily sales are likely to fall with 95% confidence."
      ],
      "metadata": {
        "id": "XaTbLX-uQkAu"
      }
    },
    {
      "cell_type": "code",
      "source": [
        "#Python code to compute the mean sales and its confidence interval\n",
        "\n",
        "\n",
        "import numpy as np\n",
        "from math import sqrt\n",
        "\n",
        "# Daily sales data\n",
        "daily_sales = [220, 245, 210, 265, 230, 250, 260, 275, 240, 255,\n",
        "               235, 260, 245, 250, 225, 270, 265, 255, 250, 260]\n",
        "\n",
        "# Calculate sample mean and standard deviation\n",
        "mean_sales = np.mean(daily_sales)\n",
        "std_sales = np.std(daily_sales, ddof=1)\n",
        "n = len(daily_sales)\n",
        "\n",
        "# Standard Error\n",
        "standard_error = std_sales / sqrt(n)\n",
        "\n",
        "# 95% Confidence Interval (Z = 1.96)\n",
        "z_value = 1.96\n",
        "lower_limit = mean_sales - z_value * standard_error\n",
        "upper_limit = mean_sales + z_value * standard_error\n",
        "\n",
        "\n",
        "print(\"Average Daily Sales:\", round(mean_sales, 2))\n",
        "print(\"Standard Deviation:\", round(std_sales, 2))\n",
        "print(f\"95% Confidence Interval: ({lower_limit:.2f}, {upper_limit:.2f})\")"
      ],
      "metadata": {
        "colab": {
          "base_uri": "https://localhost:8080/"
        },
        "id": "U1WD_YCeQS4s",
        "outputId": "a84d02ce-b26e-4f95-c383-1718fd2c4ffb"
      },
      "execution_count": null,
      "outputs": [
        {
          "output_type": "stream",
          "name": "stdout",
          "text": [
            "Average Daily Sales: 248.25\n",
            "Standard Deviation: 17.27\n",
            "95% Confidence Interval: (240.68, 255.82)\n"
          ]
        }
      ]
    }
  ]
}